{
 "cells": [
  {
   "cell_type": "code",
   "execution_count": 1,
   "metadata": {},
   "outputs": [
    {
     "name": "stderr",
     "output_type": "stream",
     "text": [
      "/Users/naman/miniconda3/envs/kaggle/lib/python3.6/site-packages/h5py/__init__.py:36: FutureWarning: Conversion of the second argument of issubdtype from `float` to `np.floating` is deprecated. In future, it will be treated as `np.float64 == np.dtype(float).type`.\n",
      "  from ._conv import register_converters as _register_converters\n",
      "Using TensorFlow backend.\n"
     ]
    }
   ],
   "source": [
    "from keras.models import Sequential\n",
    "from keras.layers import Dense, Activation,Dropout\n",
    "from keras.utils import np_utils\n",
    "\n",
    "% matplotlib inline\n",
    "import matplotlib.pyplot as plt\n",
    "from sklearn.model_selection import train_test_split\n",
    "import numpy as np"
   ]
  },
  {
   "cell_type": "markdown",
   "metadata": {},
   "source": [
    "### Loading Data"
   ]
  },
  {
   "cell_type": "code",
   "execution_count": 2,
   "metadata": {},
   "outputs": [],
   "source": [
    "from mnist import MNIST\n",
    "mndata = MNIST('./mnist/', gz=True)\n",
    "images, labels = mndata.load_training()"
   ]
  },
  {
   "cell_type": "code",
   "execution_count": 3,
   "metadata": {},
   "outputs": [],
   "source": [
    "def normalize(images):\n",
    "    for i in range(len(images)):\n",
    "        images[i] = images[i]/np.linalg.norm(images[i])\n",
    "    return images\n",
    "images = normalize(images)"
   ]
  },
  {
   "cell_type": "markdown",
   "metadata": {},
   "source": [
    "### Get Test, Train, Validation Set"
   ]
  },
  {
   "cell_type": "code",
   "execution_count": 4,
   "metadata": {},
   "outputs": [],
   "source": [
    "X_train, X_test, y_train, y_test = train_test_split(images, labels, test_size=0.2, random_state=42)\n",
    "X_train, X_val, y_train, y_val = train_test_split(X_train, y_train, test_size=0.2, random_state=42)\n",
    "\n",
    "X_train = np.array(X_train)\n",
    "X_test = np.array(X_test)\n",
    "X_val = np.array(X_val)\n",
    "y_train = np.array(y_train)\n",
    "y_test = np.array(y_test)\n",
    "y_val = np.array(y_val)"
   ]
  },
  {
   "cell_type": "code",
   "execution_count": 7,
   "metadata": {},
   "outputs": [],
   "source": [
    "y_train = np_utils.to_categorical(y_train)\n",
    "y_test = np_utils.to_categorical(y_test)\n",
    "y_val = np_utils.to_categorical(y_val)"
   ]
  },
  {
   "cell_type": "markdown",
   "metadata": {},
   "source": [
    "### Buid Model"
   ]
  },
  {
   "cell_type": "code",
   "execution_count": 14,
   "metadata": {},
   "outputs": [],
   "source": [
    "model = Sequential()\n",
    "model.add(Dense(512, input_shape=(784,)))\n",
    "model.add(Activation('relu'))                            \n",
    "#model.add(Dropout(0.2))\n",
    "\n",
    "model.add(Dense(512))\n",
    "model.add(Activation('relu'))\n",
    "#model.add(Dropout(0.2))\n",
    "\n",
    "model.add(Dense(10))\n",
    "model.add(Activation('softmax'))\n",
    "\n",
    "model.compile(loss='categorical_crossentropy',\n",
    "              optimizer='adam',\n",
    "              metrics=['accuracy'])"
   ]
  },
  {
   "cell_type": "code",
   "execution_count": 17,
   "metadata": {},
   "outputs": [
    {
     "name": "stdout",
     "output_type": "stream",
     "text": [
      "Train on 38400 samples, validate on 9600 samples\n",
      "Epoch 1/50\n",
      "38400/38400 [==============================] - 9s 236us/step - loss: 2.8606e-05 - acc: 1.0000 - val_loss: 0.1096 - val_acc: 0.9808\n",
      "Epoch 2/50\n",
      "38400/38400 [==============================] - 10s 249us/step - loss: 2.4493e-05 - acc: 1.0000 - val_loss: 0.1104 - val_acc: 0.9814\n",
      "Epoch 3/50\n",
      "38400/38400 [==============================] - 9s 244us/step - loss: 2.1064e-05 - acc: 1.0000 - val_loss: 0.1110 - val_acc: 0.9812\n",
      "Epoch 4/50\n",
      "38400/38400 [==============================] - 9s 227us/step - loss: 1.8029e-05 - acc: 1.0000 - val_loss: 0.1126 - val_acc: 0.9807\n",
      "Epoch 5/50\n",
      "38400/38400 [==============================] - 9s 235us/step - loss: 1.5587e-05 - acc: 1.0000 - val_loss: 0.1131 - val_acc: 0.9812\n",
      "Epoch 6/50\n",
      "38400/38400 [==============================] - 9s 233us/step - loss: 1.3386e-05 - acc: 1.0000 - val_loss: 0.1143 - val_acc: 0.9808\n",
      "Epoch 7/50\n",
      "38400/38400 [==============================] - 9s 226us/step - loss: 1.1593e-05 - acc: 1.0000 - val_loss: 0.1152 - val_acc: 0.9809\n",
      "Epoch 8/50\n",
      "38400/38400 [==============================] - 9s 225us/step - loss: 1.0054e-05 - acc: 1.0000 - val_loss: 0.1163 - val_acc: 0.9812\n",
      "Epoch 9/50\n",
      "38400/38400 [==============================] - 9s 229us/step - loss: 8.6940e-06 - acc: 1.0000 - val_loss: 0.1178 - val_acc: 0.9808\n",
      "Epoch 10/50\n",
      "38400/38400 [==============================] - 9s 224us/step - loss: 7.4760e-06 - acc: 1.0000 - val_loss: 0.1185 - val_acc: 0.9815\n",
      "Epoch 11/50\n",
      "38400/38400 [==============================] - 9s 224us/step - loss: 6.4358e-06 - acc: 1.0000 - val_loss: 0.1196 - val_acc: 0.9810\n",
      "Epoch 12/50\n",
      "38400/38400 [==============================] - 9s 225us/step - loss: 5.5869e-06 - acc: 1.0000 - val_loss: 0.1199 - val_acc: 0.9809\n",
      "Epoch 13/50\n",
      "38400/38400 [==============================] - 9s 236us/step - loss: 4.8982e-06 - acc: 1.0000 - val_loss: 0.1208 - val_acc: 0.9815\n",
      "Epoch 14/50\n",
      "38400/38400 [==============================] - 9s 225us/step - loss: 4.1988e-06 - acc: 1.0000 - val_loss: 0.1220 - val_acc: 0.9811\n",
      "Epoch 15/50\n",
      "38400/38400 [==============================] - 9s 247us/step - loss: 3.6308e-06 - acc: 1.0000 - val_loss: 0.1226 - val_acc: 0.9811\n",
      "Epoch 16/50\n",
      "38400/38400 [==============================] - 9s 231us/step - loss: 3.1879e-06 - acc: 1.0000 - val_loss: 0.1237 - val_acc: 0.9814\n",
      "Epoch 17/50\n",
      "38400/38400 [==============================] - 10s 255us/step - loss: 2.7304e-06 - acc: 1.0000 - val_loss: 0.1253 - val_acc: 0.9811\n",
      "Epoch 18/50\n",
      "38400/38400 [==============================] - 9s 236us/step - loss: 2.3678e-06 - acc: 1.0000 - val_loss: 0.1251 - val_acc: 0.9811\n",
      "Epoch 19/50\n",
      "38400/38400 [==============================] - 9s 240us/step - loss: 2.0853e-06 - acc: 1.0000 - val_loss: 0.1260 - val_acc: 0.9812\n",
      "Epoch 20/50\n",
      "38400/38400 [==============================] - 9s 235us/step - loss: 1.8353e-06 - acc: 1.0000 - val_loss: 0.1271 - val_acc: 0.9815\n",
      "Epoch 21/50\n",
      "38400/38400 [==============================] - 9s 228us/step - loss: 1.5952e-06 - acc: 1.0000 - val_loss: 0.1275 - val_acc: 0.9811\n",
      "Epoch 22/50\n",
      "38400/38400 [==============================] - 8s 218us/step - loss: 1.3737e-06 - acc: 1.0000 - val_loss: 0.1286 - val_acc: 0.9814\n",
      "Epoch 23/50\n",
      "38400/38400 [==============================] - 9s 238us/step - loss: 1.2047e-06 - acc: 1.0000 - val_loss: 0.1300 - val_acc: 0.9810\n",
      "Epoch 24/50\n",
      "38400/38400 [==============================] - 9s 246us/step - loss: 1.0534e-06 - acc: 1.0000 - val_loss: 0.1301 - val_acc: 0.9812\n",
      "Epoch 25/50\n",
      "38400/38400 [==============================] - 9s 224us/step - loss: 9.3716e-07 - acc: 1.0000 - val_loss: 0.1306 - val_acc: 0.9816\n",
      "Epoch 26/50\n",
      "38400/38400 [==============================] - 9s 231us/step - loss: 8.1731e-07 - acc: 1.0000 - val_loss: 0.1310 - val_acc: 0.9815\n",
      "Epoch 27/50\n",
      "38400/38400 [==============================] - 9s 227us/step - loss: 7.2575e-07 - acc: 1.0000 - val_loss: 0.1328 - val_acc: 0.9814\n",
      "Epoch 28/50\n",
      "38400/38400 [==============================] - 9s 230us/step - loss: 6.4831e-07 - acc: 1.0000 - val_loss: 0.1336 - val_acc: 0.9816\n",
      "Epoch 29/50\n",
      "38400/38400 [==============================] - 9s 224us/step - loss: 5.7361e-07 - acc: 1.0000 - val_loss: 0.1333 - val_acc: 0.9814\n",
      "Epoch 30/50\n",
      "38400/38400 [==============================] - 8s 212us/step - loss: 5.1962e-07 - acc: 1.0000 - val_loss: 0.1345 - val_acc: 0.9815\n",
      "Epoch 31/50\n",
      "38400/38400 [==============================] - 8s 209us/step - loss: 4.6263e-07 - acc: 1.0000 - val_loss: 0.1354 - val_acc: 0.9816\n",
      "Epoch 32/50\n",
      "38400/38400 [==============================] - 9s 230us/step - loss: 4.1795e-07 - acc: 1.0000 - val_loss: 0.1366 - val_acc: 0.9815\n",
      "Epoch 33/50\n",
      "38400/38400 [==============================] - 8s 213us/step - loss: 3.7902e-07 - acc: 1.0000 - val_loss: 0.1372 - val_acc: 0.9816\n",
      "Epoch 34/50\n",
      "38400/38400 [==============================] - 8s 214us/step - loss: 3.4162e-07 - acc: 1.0000 - val_loss: 0.1379 - val_acc: 0.9815\n",
      "Epoch 35/50\n",
      "38400/38400 [==============================] - 8s 206us/step - loss: 3.1152e-07 - acc: 1.0000 - val_loss: 0.1386 - val_acc: 0.9816\n",
      "Epoch 36/50\n",
      "38400/38400 [==============================] - 8s 210us/step - loss: 2.8584e-07 - acc: 1.0000 - val_loss: 0.1394 - val_acc: 0.9814\n",
      "Epoch 37/50\n",
      "38400/38400 [==============================] - 8s 214us/step - loss: 2.6627e-07 - acc: 1.0000 - val_loss: 0.1402 - val_acc: 0.9817\n",
      "Epoch 38/50\n",
      "38400/38400 [==============================] - 8s 212us/step - loss: 2.4674e-07 - acc: 1.0000 - val_loss: 0.1412 - val_acc: 0.9810\n",
      "Epoch 39/50\n",
      "38400/38400 [==============================] - 8s 218us/step - loss: 2.3210e-07 - acc: 1.0000 - val_loss: 0.1415 - val_acc: 0.9812\n",
      "Epoch 40/50\n",
      "38400/38400 [==============================] - 9s 222us/step - loss: 2.1557e-07 - acc: 1.0000 - val_loss: 0.1416 - val_acc: 0.9814\n",
      "Epoch 41/50\n",
      "38400/38400 [==============================] - 8s 212us/step - loss: 2.0453e-07 - acc: 1.0000 - val_loss: 0.1425 - val_acc: 0.9814\n",
      "Epoch 42/50\n",
      "38400/38400 [==============================] - 9s 223us/step - loss: 1.9359e-07 - acc: 1.0000 - val_loss: 0.1434 - val_acc: 0.9810\n",
      "Epoch 43/50\n",
      "38400/38400 [==============================] - 9s 230us/step - loss: 1.8521e-07 - acc: 1.0000 - val_loss: 0.1434 - val_acc: 0.9816\n",
      "Epoch 44/50\n",
      "38400/38400 [==============================] - 9s 224us/step - loss: 1.7653e-07 - acc: 1.0000 - val_loss: 0.1446 - val_acc: 0.9814\n",
      "Epoch 45/50\n",
      "38400/38400 [==============================] - 9s 231us/step - loss: 1.6973e-07 - acc: 1.0000 - val_loss: 0.1450 - val_acc: 0.9817\n",
      "Epoch 46/50\n",
      "38400/38400 [==============================] - 9s 223us/step - loss: 1.6412e-07 - acc: 1.0000 - val_loss: 0.1454 - val_acc: 0.9814\n",
      "Epoch 47/50\n",
      "38400/38400 [==============================] - 8s 212us/step - loss: 1.5848e-07 - acc: 1.0000 - val_loss: 0.1458 - val_acc: 0.9811\n",
      "Epoch 48/50\n",
      "38400/38400 [==============================] - 8s 217us/step - loss: 1.5456e-07 - acc: 1.0000 - val_loss: 0.1465 - val_acc: 0.9814\n",
      "Epoch 49/50\n",
      "38400/38400 [==============================] - 9s 235us/step - loss: 1.4997e-07 - acc: 1.0000 - val_loss: 0.1467 - val_acc: 0.9814\n",
      "Epoch 50/50\n",
      "38400/38400 [==============================] - 9s 222us/step - loss: 1.4670e-07 - acc: 1.0000 - val_loss: 0.1475 - val_acc: 0.9816\n"
     ]
    }
   ],
   "source": [
    "history = model.fit(X_train,y_train,epochs=50, batch_size=128,validation_data=(X_val, y_val))"
   ]
  },
  {
   "cell_type": "code",
   "execution_count": 16,
   "metadata": {},
   "outputs": [
    {
     "name": "stdout",
     "output_type": "stream",
     "text": [
      "12000/12000 [==============================] - 1s 109us/step\n"
     ]
    },
    {
     "data": {
      "text/plain": [
       "[0.11215791929579287, 0.9829166666666667]"
      ]
     },
     "execution_count": 16,
     "metadata": {},
     "output_type": "execute_result"
    }
   ],
   "source": [
    "model.evaluate(X_test,y_test,verbose=1)"
   ]
  },
  {
   "cell_type": "code",
   "execution_count": null,
   "metadata": {},
   "outputs": [],
   "source": []
  }
 ],
 "metadata": {
  "kernelspec": {
   "display_name": "Python [conda env:kaggle]",
   "language": "python",
   "name": "conda-env-kaggle-py"
  },
  "language_info": {
   "codemirror_mode": {
    "name": "ipython",
    "version": 3
   },
   "file_extension": ".py",
   "mimetype": "text/x-python",
   "name": "python",
   "nbconvert_exporter": "python",
   "pygments_lexer": "ipython3",
   "version": "3.6.4"
  }
 },
 "nbformat": 4,
 "nbformat_minor": 2
}
