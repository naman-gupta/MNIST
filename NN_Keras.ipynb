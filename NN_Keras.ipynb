{
 "cells": [
  {
   "cell_type": "code",
   "execution_count": 1,
   "metadata": {
    "nbpresent": {
     "id": "b4b07c1c-0e7e-4cf3-bba8-9a8471965c3a"
    }
   },
   "outputs": [
    {
     "name": "stderr",
     "output_type": "stream",
     "text": [
      "/Users/naman/miniconda3/envs/kaggle/lib/python3.6/site-packages/h5py/__init__.py:36: FutureWarning: Conversion of the second argument of issubdtype from `float` to `np.floating` is deprecated. In future, it will be treated as `np.float64 == np.dtype(float).type`.\n",
      "  from ._conv import register_converters as _register_converters\n",
      "Using TensorFlow backend.\n"
     ]
    }
   ],
   "source": [
    "from keras.models import Sequential\n",
    "from keras.layers import Dense, Activation,Dropout\n",
    "from keras.utils import np_utils\n",
    "\n",
    "% matplotlib inline\n",
    "import matplotlib.pyplot as plt\n",
    "from sklearn.model_selection import train_test_split\n",
    "import numpy as np"
   ]
  },
  {
   "cell_type": "markdown",
   "metadata": {
    "nbpresent": {
     "id": "b6e09e06-6735-485e-8d4a-1315349ab419"
    }
   },
   "source": [
    "### Loading Data"
   ]
  },
  {
   "cell_type": "code",
   "execution_count": 2,
   "metadata": {
    "nbpresent": {
     "id": "1a7dd079-34e5-4176-a2df-924d43e9bbed"
    }
   },
   "outputs": [],
   "source": [
    "from mnist import MNIST\n",
    "mndata = MNIST('./mnist/', gz=True)\n",
    "images, labels = mndata.load_training()"
   ]
  },
  {
   "cell_type": "code",
   "execution_count": 3,
   "metadata": {
    "nbpresent": {
     "id": "52e0875b-3d54-49e0-98c1-aa5f338672f9"
    }
   },
   "outputs": [],
   "source": [
    "def normalize(images):\n",
    "    for i in range(len(images)):\n",
    "        images[i] = images[i]/np.linalg.norm(images[i])\n",
    "    return images\n",
    "images = normalize(images)"
   ]
  },
  {
   "cell_type": "markdown",
   "metadata": {
    "nbpresent": {
     "id": "c5f0e99a-2fd7-4c99-9bba-ba170f6d2629"
    }
   },
   "source": [
    "### Get Test, Train, Validation Set"
   ]
  },
  {
   "cell_type": "code",
   "execution_count": 20,
   "metadata": {
    "nbpresent": {
     "id": "5439535e-f1f4-41a1-9766-828f08e77f0e"
    }
   },
   "outputs": [],
   "source": [
    "X_train, X_test, y_train, y_test = train_test_split(images, labels, test_size=0.2, random_state=42)\n",
    "X_train, X_val, y_train, y_val = train_test_split(X_train, y_train, test_size=0.2, random_state=42)\n",
    "testLabels = y_test\n",
    "X_train = np.array(X_train)\n",
    "X_test = np.array(X_test)\n",
    "X_val = np.array(X_val)\n",
    "y_train = np.array(y_train)\n",
    "y_test = np.array(y_test)\n",
    "y_val = np.array(y_val)"
   ]
  },
  {
   "cell_type": "code",
   "execution_count": 21,
   "metadata": {
    "nbpresent": {
     "id": "78a63e15-dbaa-4b70-9124-9cdb5895ef9a"
    }
   },
   "outputs": [],
   "source": [
    "y_train = np_utils.to_categorical(y_train)\n",
    "y_test = np_utils.to_categorical(y_test)\n",
    "y_val = np_utils.to_categorical(y_val)"
   ]
  },
  {
   "cell_type": "markdown",
   "metadata": {
    "nbpresent": {
     "id": "0bbb1b36-8ca6-4c2d-a75c-da2197396faf"
    }
   },
   "source": [
    "### Buid Model"
   ]
  },
  {
   "cell_type": "code",
   "execution_count": 22,
   "metadata": {
    "nbpresent": {
     "id": "01198846-35b3-425d-be2b-cb320cecdb40"
    }
   },
   "outputs": [],
   "source": [
    "model = Sequential()\n",
    "model.add(Dense(512, input_shape=(784,)))\n",
    "model.add(Activation('relu'))                            \n",
    "#model.add(Dropout(0.2))\n",
    "\n",
    "model.add(Dense(512))\n",
    "model.add(Activation('relu'))\n",
    "#model.add(Dropout(0.2))\n",
    "\n",
    "model.add(Dense(10))\n",
    "model.add(Activation('softmax'))\n",
    "\n",
    "model.compile(loss='categorical_crossentropy',\n",
    "              optimizer='adam',\n",
    "              metrics=['accuracy'])"
   ]
  },
  {
   "cell_type": "code",
   "execution_count": null,
   "metadata": {
    "nbpresent": {
     "id": "da8b9454-840a-409e-a2d9-556228fade68"
    },
    "scrolled": false
   },
   "outputs": [
    {
     "name": "stdout",
     "output_type": "stream",
     "text": [
      "Train on 38400 samples, validate on 9600 samples\n",
      "Epoch 1/50\n",
      "38400/38400 [==============================] - 7s 194us/step - loss: 0.0112 - acc: 0.9969 - val_loss: 0.0892 - val_acc: 0.9764\n",
      "Epoch 2/50\n",
      "38400/38400 [==============================] - 8s 206us/step - loss: 0.0079 - acc: 0.9981 - val_loss: 0.1024 - val_acc: 0.9760\n",
      "Epoch 3/50\n",
      "38400/38400 [==============================] - 10s 251us/step - loss: 0.0065 - acc: 0.9985 - val_loss: 0.0887 - val_acc: 0.9794\n",
      "Epoch 4/50\n",
      "38400/38400 [==============================] - 10s 250us/step - loss: 0.0056 - acc: 0.9985 - val_loss: 0.0951 - val_acc: 0.9777\n",
      "Epoch 5/50\n",
      "38400/38400 [==============================] - 8s 221us/step - loss: 0.0111 - acc: 0.9962 - val_loss: 0.1086 - val_acc: 0.9757\n",
      "Epoch 6/50\n",
      "38400/38400 [==============================] - 11s 283us/step - loss: 0.0087 - acc: 0.9973 - val_loss: 0.1058 - val_acc: 0.9750\n",
      "Epoch 7/50\n",
      "38400/38400 [==============================] - 10s 268us/step - loss: 0.0055 - acc: 0.9983 - val_loss: 0.1136 - val_acc: 0.9758\n",
      "Epoch 8/50\n",
      "38400/38400 [==============================] - 10s 268us/step - loss: 0.0040 - acc: 0.9988 - val_loss: 0.1039 - val_acc: 0.9786\n",
      "Epoch 9/50\n",
      "38400/38400 [==============================] - 10s 262us/step - loss: 0.0058 - acc: 0.9981 - val_loss: 0.1025 - val_acc: 0.9776\n",
      "Epoch 10/50\n",
      "38400/38400 [==============================] - 11s 297us/step - loss: 0.0060 - acc: 0.9982 - val_loss: 0.1193 - val_acc: 0.9755\n",
      "Epoch 11/50\n",
      "38400/38400 [==============================] - 10s 271us/step - loss: 0.0083 - acc: 0.9974 - val_loss: 0.1033 - val_acc: 0.9782\n",
      "Epoch 12/50\n",
      "38400/38400 [==============================] - 10s 263us/step - loss: 0.0054 - acc: 0.9982 - val_loss: 0.1025 - val_acc: 0.9797\n",
      "Epoch 13/50\n",
      "38400/38400 [==============================] - 10s 262us/step - loss: 0.0013 - acc: 0.9998 - val_loss: 0.0953 - val_acc: 0.9804\n",
      "Epoch 14/50\n",
      "38400/38400 [==============================] - 10s 250us/step - loss: 2.9290e-04 - acc: 0.9999 - val_loss: 0.0995 - val_acc: 0.9806\n",
      "Epoch 15/50\n",
      "38400/38400 [==============================] - 9s 242us/step - loss: 1.0760e-04 - acc: 1.0000 - val_loss: 0.0996 - val_acc: 0.9805\n",
      "Epoch 16/50\n",
      "38400/38400 [==============================] - 9s 223us/step - loss: 7.2916e-05 - acc: 1.0000 - val_loss: 0.1017 - val_acc: 0.9808\n",
      "Epoch 17/50\n",
      "38400/38400 [==============================] - 8s 205us/step - loss: 5.8452e-05 - acc: 1.0000 - val_loss: 0.1025 - val_acc: 0.9808\n",
      "Epoch 18/50\n",
      "38400/38400 [==============================] - 11s 296us/step - loss: 4.8486e-05 - acc: 1.0000 - val_loss: 0.1040 - val_acc: 0.9807\n",
      "Epoch 19/50\n",
      "38400/38400 [==============================] - 10s 266us/step - loss: 4.2452e-05 - acc: 1.0000 - val_loss: 0.1046 - val_acc: 0.9809\n",
      "Epoch 20/50\n",
      "38400/38400 [==============================] - 10s 252us/step - loss: 3.6170e-05 - acc: 1.0000 - val_loss: 0.1058 - val_acc: 0.9811\n",
      "Epoch 21/50\n",
      "38400/38400 [==============================] - 9s 243us/step - loss: 3.1718e-05 - acc: 1.0000 - val_loss: 0.1068 - val_acc: 0.9809\n",
      "Epoch 22/50\n",
      "38400/38400 [==============================] - 9s 225us/step - loss: 2.7487e-05 - acc: 1.0000 - val_loss: 0.1080 - val_acc: 0.9814\n",
      "Epoch 23/50\n",
      "38400/38400 [==============================] - 10s 263us/step - loss: 2.4270e-05 - acc: 1.0000 - val_loss: 0.1093 - val_acc: 0.9812\n",
      "Epoch 24/50\n",
      "38400/38400 [==============================] - 10s 255us/step - loss: 2.1235e-05 - acc: 1.0000 - val_loss: 0.1102 - val_acc: 0.9812\n",
      "Epoch 25/50\n",
      "38400/38400 [==============================] - 9s 247us/step - loss: 1.8778e-05 - acc: 1.0000 - val_loss: 0.1108 - val_acc: 0.9811\n",
      "Epoch 26/50\n",
      "38400/38400 [==============================] - 10s 264us/step - loss: 1.6438e-05 - acc: 1.0000 - val_loss: 0.1120 - val_acc: 0.9817\n",
      "Epoch 27/50\n",
      "38400/38400 [==============================] - 10s 266us/step - loss: 1.4561e-05 - acc: 1.0000 - val_loss: 0.1127 - val_acc: 0.9817\n",
      "Epoch 28/50\n",
      "38400/38400 [==============================] - 10s 261us/step - loss: 1.2568e-05 - acc: 1.0000 - val_loss: 0.1143 - val_acc: 0.9815\n",
      "Epoch 29/50\n",
      "38400/38400 [==============================] - 9s 239us/step - loss: 1.1181e-05 - acc: 1.0000 - val_loss: 0.1154 - val_acc: 0.9814\n",
      "Epoch 30/50\n",
      "38400/38400 [==============================] - 9s 237us/step - loss: 9.9264e-06 - acc: 1.0000 - val_loss: 0.1157 - val_acc: 0.9814\n",
      "Epoch 31/50\n",
      "38400/38400 [==============================] - 10s 260us/step - loss: 8.5529e-06 - acc: 1.0000 - val_loss: 0.1177 - val_acc: 0.9807\n",
      "Epoch 32/50\n",
      "38400/38400 [==============================] - 9s 226us/step - loss: 7.5104e-06 - acc: 1.0000 - val_loss: 0.1176 - val_acc: 0.9814\n",
      "Epoch 33/50\n",
      "38400/38400 [==============================] - 8s 213us/step - loss: 6.3607e-06 - acc: 1.0000 - val_loss: 0.1189 - val_acc: 0.9812\n",
      "Epoch 34/50\n",
      "38400/38400 [==============================] - 7s 191us/step - loss: 5.7447e-06 - acc: 1.0000 - val_loss: 0.1202 - val_acc: 0.9814\n",
      "Epoch 35/50\n",
      "38400/38400 [==============================] - 8s 199us/step - loss: 5.0283e-06 - acc: 1.0000 - val_loss: 0.1206 - val_acc: 0.9817\n",
      "Epoch 36/50\n",
      "38400/38400 [==============================] - 9s 226us/step - loss: 4.3690e-06 - acc: 1.0000 - val_loss: 0.1224 - val_acc: 0.9810\n",
      "Epoch 37/50\n",
      "38400/38400 [==============================] - 8s 220us/step - loss: 3.7694e-06 - acc: 1.0000 - val_loss: 0.1226 - val_acc: 0.9815\n",
      "Epoch 38/50\n",
      "38400/38400 [==============================] - 8s 218us/step - loss: 3.3484e-06 - acc: 1.0000 - val_loss: 0.1238 - val_acc: 0.9816\n",
      "Epoch 39/50\n",
      "38400/38400 [==============================] - 8s 211us/step - loss: 2.8831e-06 - acc: 1.0000 - val_loss: 0.1254 - val_acc: 0.9809\n",
      "Epoch 40/50\n",
      "38400/38400 [==============================] - 9s 232us/step - loss: 2.6701e-06 - acc: 1.0000 - val_loss: 0.1257 - val_acc: 0.9810\n",
      "Epoch 41/50\n",
      "38400/38400 [==============================] - 7s 195us/step - loss: 2.4781e-06 - acc: 1.0000 - val_loss: 0.1268 - val_acc: 0.9817\n",
      "Epoch 42/50\n",
      "38400/38400 [==============================] - 9s 238us/step - loss: 1.9687e-06 - acc: 1.0000 - val_loss: 0.1278 - val_acc: 0.9814\n",
      "Epoch 43/50\n",
      "38400/38400 [==============================] - 9s 230us/step - loss: 1.6694e-06 - acc: 1.0000 - val_loss: 0.1286 - val_acc: 0.9816\n",
      "Epoch 44/50\n",
      "38400/38400 [==============================] - 10s 265us/step - loss: 1.4397e-06 - acc: 1.0000 - val_loss: 0.1290 - val_acc: 0.9814\n",
      "Epoch 45/50\n",
      "38400/38400 [==============================] - 11s 276us/step - loss: 1.2738e-06 - acc: 1.0000 - val_loss: 0.1306 - val_acc: 0.9810\n",
      "Epoch 46/50\n",
      "38400/38400 [==============================] - 9s 237us/step - loss: 1.1008e-06 - acc: 1.0000 - val_loss: 0.1310 - val_acc: 0.9815\n",
      "Epoch 47/50\n",
      "38400/38400 [==============================] - 9s 238us/step - loss: 9.7977e-07 - acc: 1.0000 - val_loss: 0.1312 - val_acc: 0.9815\n",
      "Epoch 48/50\n",
      "38400/38400 [==============================] - 8s 209us/step - loss: 8.6998e-07 - acc: 1.0000 - val_loss: 0.1323 - val_acc: 0.9811\n",
      "Epoch 49/50\n",
      "29056/38400 [=====================>........] - ETA: 1s - loss: 7.4715e-07 - acc: 1.0000"
     ]
    }
   ],
   "source": [
    "history = model.fit(X_train,y_train,epochs=50, batch_size=128,validation_data=(X_val, y_val))"
   ]
  },
  {
   "cell_type": "code",
   "execution_count": 24,
   "metadata": {
    "nbpresent": {
     "id": "39c5c427-6c68-4a98-8c2e-30325601ea01"
    }
   },
   "outputs": [
    {
     "name": "stdout",
     "output_type": "stream",
     "text": [
      "12000/12000 [==============================] - 1s 92us/step\n"
     ]
    },
    {
     "data": {
      "text/plain": [
       "[0.08770164245343767, 0.9763333333333334]"
      ]
     },
     "execution_count": 24,
     "metadata": {},
     "output_type": "execute_result"
    }
   ],
   "source": [
    "model.evaluate(X_test,y_test,verbose=1)"
   ]
  },
  {
   "cell_type": "code",
   "execution_count": 25,
   "metadata": {
    "nbpresent": {
     "id": "573238e5-d173-4937-a133-a0309a39b0c4"
    }
   },
   "outputs": [],
   "source": [
    "def plot_history(history):\n",
    "    loss_list = [s for s in history.history.keys() if 'loss' in s and 'val' not in s]\n",
    "    val_loss_list = [s for s in history.history.keys() if 'loss' in s and 'val' in s]\n",
    "    acc_list = [s for s in history.history.keys() if 'acc' in s and 'val' not in s]\n",
    "    val_acc_list = [s for s in history.history.keys() if 'acc' in s and 'val' in s]\n",
    "    \n",
    "    if len(loss_list) == 0:\n",
    "        print('Loss is missing in history')\n",
    "        return \n",
    "    \n",
    "    ## As loss always exists\n",
    "    epochs = range(1,len(history.history[loss_list[0]]) + 1)\n",
    "    \n",
    "    ## Loss\n",
    "    plt.figure(1)\n",
    "    for l in loss_list:\n",
    "        plt.plot(epochs, history.history[l], 'b', label='Training loss (' + str(str(format(history.history[l][-1],'.5f'))+')'))\n",
    "    for l in val_loss_list:\n",
    "        plt.plot(epochs, history.history[l], 'g', label='Validation loss (' + str(str(format(history.history[l][-1],'.5f'))+')'))\n",
    "    \n",
    "    plt.title('Loss')\n",
    "    plt.xlabel('Epochs')\n",
    "    plt.ylabel('Loss')\n",
    "    plt.legend()\n",
    "    \n",
    "    ## Accuracy\n",
    "    plt.figure(2)\n",
    "    for l in acc_list:\n",
    "        plt.plot(epochs, history.history[l], 'b', label='Training accuracy (' + str(format(history.history[l][-1],'.5f'))+')')\n",
    "    for l in val_acc_list:    \n",
    "        plt.plot(epochs, history.history[l], 'g', label='Validation accuracy (' + str(format(history.history[l][-1],'.5f'))+')')\n",
    "\n",
    "    plt.title('Accuracy')\n",
    "    plt.xlabel('Epochs')\n",
    "    plt.ylabel('Accuracy')\n",
    "    plt.legend()\n",
    "    plt.show()"
   ]
  },
  {
   "cell_type": "code",
   "execution_count": 26,
   "metadata": {
    "nbpresent": {
     "id": "6d101c1f-d90f-4b5e-bbe5-9d9dc46c6640"
    }
   },
   "outputs": [
    {
     "data": {
      "image/png": "[encoded data removed]",
      "text/plain": [
       "<Figure size 432x288 with 1 Axes>"
      ]
     },
     "metadata": {},
     "output_type": "display_data"
    },
    {
     "data": {
      "image/png": "[encoded data removed]",
      "text/plain": [
       "<Figure size 432x288 with 1 Axes>"
      ]
     },
     "metadata": {},
     "output_type": "display_data"
    }
   ],
   "source": [
    "plot_history(history)"
   ]
  },
  {
   "cell_type": "code",
   "execution_count": 27,
   "metadata": {
    "nbpresent": {
     "id": "2517d184-3cc6-4fa3-8f32-3a7e989b991c"
    }
   },
   "outputs": [],
   "source": [
    "from sklearn.metrics import confusion_matrix"
   ]
  },
  {
   "cell_type": "code",
   "execution_count": 28,
   "metadata": {
    "nbpresent": {
     "id": "4fd4d69e-6b9c-4dd1-8461-8ebdcb016dfa"
    }
   },
   "outputs": [],
   "source": [
    "y_pred = model.predict_classes(X_test)"
   ]
  },
  {
   "cell_type": "code",
   "execution_count": 29,
   "metadata": {
    "nbpresent": {
     "id": "f0b72e26-e5e2-4bf2-81b3-518f0581684d"
    }
   },
   "outputs": [
    {
     "data": {
      "text/plain": [
       "array([[1164,    0,    2,    0,    1,    0,    2,    1,    3,    2],\n",
       "       [   0, 1319,    0,    0,    1,    0,    1,    0,    0,    1],\n",
       "       [   1,    6, 1152,    4,    1,    0,    1,    6,    2,    1],\n",
       "       [   2,    2,   20, 1167,    1,    7,    0,    4,   13,    3],\n",
       "       [   3,    0,    2,    0, 1160,    0,    0,    2,    1,    8],\n",
       "       [   9,    5,    2,   14,    4, 1050,   13,    3,    3,    1],\n",
       "       [   8,    1,    1,    0,    2,    0, 1162,    1,    2,    0],\n",
       "       [   1,    7,    9,    0,    3,    0,    0, 1272,    3,    4],\n",
       "       [   4,    4,    3,    3,    2,    4,    3,    3, 1130,    4],\n",
       "       [   5,    1,    1,    0,   27,    1,    1,   13,    5, 1140]])"
      ]
     },
     "execution_count": 29,
     "metadata": {},
     "output_type": "execute_result"
    }
   ],
   "source": [
    "confusion_matrix(testLabels,y_pred, labels=[0,1,2,3,4,5,6,7,8,9])"
   ]
  }
 ],
 "metadata": {
  "kernelspec": {
   "display_name": "Python [conda env:kaggle]",
   "language": "python",
   "name": "conda-env-kaggle-py"
  },
  "language_info": {
   "codemirror_mode": {
    "name": "ipython",
    "version": 3
   },
   "file_extension": ".py",
   "mimetype": "text/x-python",
   "name": "python",
   "nbconvert_exporter": "python",
   "pygments_lexer": "ipython3",
   "version": "3.6.4"
  }
 },
 "nbformat": 4,
 "nbformat_minor": 2
}
